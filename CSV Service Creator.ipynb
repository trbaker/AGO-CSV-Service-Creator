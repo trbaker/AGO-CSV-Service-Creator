{
 "cells": [
  {
   "cell_type": "markdown",
   "metadata": {},
   "source": [
    "# CSV Service Creator\n",
    "\n",
    "This scripts readsa designated directory for all CSVs and publishes them as a feature service in ArcGIS Online.\n",
    "\n",
    "Most of this script is just a modified version of a sample script available from: https://developers.arcgis.com/python/ \n"
   ]
  },
  {
   "cell_type": "code",
   "execution_count": 60,
   "metadata": {
    "collapsed": true
   },
   "outputs": [],
   "source": [
    "from IPython.display import display\n",
    "from arcgis.gis import GIS\n",
    "import os\n",
    "#\n",
    "# fill in your ArcGIS Online org name, user, and password\n",
    "gis = GIS(\"https://MYORG.maps.arcgis.com\", \"USERNAME\", \"PW\")"
   ]
  },
  {
   "cell_type": "code",
   "execution_count": 61,
   "metadata": {},
   "outputs": [
    {
     "name": "stdout",
     "output_type": "stream",
     "text": [
      "Number of .csv files found: 3\n"
     ]
    }
   ],
   "source": [
    "# path relative to this notebook. My CSvs are put in subfolder called 'data'.\n",
    "data_dir = \"data/\"\n",
    "\n",
    "#Get list of all files\n",
    "file_list = os.listdir(data_dir)\n",
    "\n",
    "#Filter and get only .sd files\n",
    "csv_file_list = [x for x in file_list if x.endswith(\".csv\")]\n",
    "print(\"Number of .csv files found: \" + str(len(csv_file_list)))"
   ]
  },
  {
   "cell_type": "code",
   "execution_count": 62,
   "metadata": {},
   "outputs": [
    {
     "name": "stdout",
     "output_type": "stream",
     "text": [
      "complete\n"
     ]
    }
   ],
   "source": [
    "# Loop through each file and publish it as a service\n",
    "for current_csv_file in csv_file_list:\n",
    "    csv_file = 'data/' + current_csv_file\n",
    "    csv_item = gis.content.add({}, csv_file)\n",
    "    #display(csv_item)\n",
    "\n",
    "\n",
    "    csv_lyr = csv_item.publish(None)\n",
    "    \n",
    "    #display(csv_lyr)\n",
    "\n",
    "    # create a new folder called 'CSV Data'\n",
    "    # next line only needs to run once. Culd build a check to see if it exists, I guess.\n",
    "    #new_folder_details = gis.content.create_folder(\"CSV data\")\n",
    "\n",
    "    # move both the csv_item and csv_lyr items into this new folder\n",
    "    csv_item.move('CSV data')   \n",
    "    csv_lyr.move('CSV data')\n",
    "    \n",
    "    #share that item with the group on the target portal\n",
    "    csv_item.share(everyone=True, org=True)\n",
    "    csv_lyr.share(everyone=True, org=True)\n",
    "    \n",
    "print(\"complete\")\n"
   ]
  }
 ],
 "metadata": {
  "kernelspec": {
   "display_name": "Python 3",
   "language": "python",
   "name": "python3"
  },
  "language_info": {
   "codemirror_mode": {
    "name": "ipython",
    "version": 3
   },
   "file_extension": ".py",
   "mimetype": "text/x-python",
   "name": "python",
   "nbconvert_exporter": "python",
   "pygments_lexer": "ipython3",
   "version": "3.6.1"
  }
 },
 "nbformat": 4,
 "nbformat_minor": 2
}
